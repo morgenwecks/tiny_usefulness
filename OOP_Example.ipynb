{
 "cells": [
  {
   "cell_type": "markdown",
   "metadata": {},
   "source": [
    "# Object-Oriented Programming: Go Beyond the Basic Types of Data"
   ]
  },
  {
   "cell_type": "markdown",
   "metadata": {},
   "source": [
    "## Basic Data Types Review\n",
    "\n",
    "The previous sessions gave us a good understanding about the basic operations in Python, as well as an intuition about what operations we can perform with the degree of abstraction we have encountered so far. \n",
    "\n",
    "To quickly repeat, our basic data types have been so far:"
   ]
  },
  {
   "cell_type": "code",
   "execution_count": 9,
   "metadata": {},
   "outputs": [
    {
     "name": "stdout",
     "output_type": "stream",
     "text": [
      "Integers: <class 'int'>\n",
      "Strings: <class 'str'>\n",
      "Booleans: <class 'bool'>\n",
      "Floats: <class 'float'>\n",
      "Complex: <class 'complex'>\n"
     ]
    }
   ],
   "source": [
    "print ('Integers:', type(9))\n",
    "print ('Strings:', type('9'))\n",
    "print ('Booleans:', type(9==9))\n",
    "print ('Floats:', type(9/4))\n",
    "print ('Complex:', type(2+3j))"
   ]
  },
  {
   "cell_type": "markdown",
   "metadata": {},
   "source": [
    "Furthermore, we have learned how to modify these data types with common operators. We performed mathematical operations on them, modified text with string formattting methods, and learned how to convert as well as store these data types in a desired format."
   ]
  },
  {
   "cell_type": "markdown",
   "metadata": {},
   "source": [
    "## Data Abstraction Logic"
   ]
  },
  {
   "cell_type": "markdown",
   "metadata": {},
   "source": [
    "It would be a piece of work to write all our programs only with basic data types and operators. Even the offer of in-built functions that come with Python may not resolve all of our problems in an efficient manner. By remembering the Zen of Python, we want to obtain a lean, fast and user-friendly experience. \n",
    "\n",
    "By applying principles of object-oriented programming, we can avoid certain restrictions that we have encountered so far: ***we are able to define our own data types, and how they behave***.\n",
    "\n",
    "In Python, we can define ***classes*** for this purpose, and the mechanics of classes are very similar to other programming languages (and even markup languages, for that matter).\n",
    "Abstract data types can be fonud in these classes: ***their representations are hidden from the outside***."
   ]
  },
  {
   "cell_type": "markdown",
   "metadata": {},
   "source": [
    "## Principles of Object-Oriented Programming"
   ]
  },
  {
   "cell_type": "markdown",
   "metadata": {},
   "source": [
    "OOP follows a set of characteristics that make the approach easily distinguishable from what we have learned so far. \n",
    "As you will see in the future use of imported libraries and using their methods for your own means by, for instance, API's, pretty much everything that makes Python powerful revolves around these principles of OOP.  \n",
    "\n",
    "We will use an example on this and see how OOP can be applied.  \n",
    "\n",
    "Consider a simple application for a coding school to keep track of their students, and perform some operations and modifications with their profiles. Let's assume the school would like use these data in programming, and the modifying queries from a database don't serve this purpose of performing repetitive tasks that follow a certain logic - it would still require some human interaction with a database."
   ]
  },
  {
   "cell_type": "markdown",
   "metadata": {},
   "source": [
    "Now our student is an ideal object - no offense - in a programming sense.\n",
    "We can say our student has some ***properties***, and what we want to do with these properties is what we call ***methods***. \n",
    "\n",
    "Doesn't that sound somewhat familiar? Yes, it does. Of course that's the same logic behind ***variables*** and ***functions***, but this time they are exclusive to a ***class***.\n",
    "\n",
    "***Properties and methods are variables and functions to a class, respectively. \n",
    "\n",
    "***A class is a template for making an object, while the object is our entity itself*** (the student, in this case). We could therefore say that our classmate Sam is an ***instance of the class \"Student\"***."
   ]
  },
  {
   "cell_type": "markdown",
   "metadata": {},
   "source": [
    "### Basic Syntax of a Class in Python\n",
    "\n",
    "We will go through all the functions in detail, but try to memorize this elementary layout:"
   ]
  },
  {
   "cell_type": "code",
   "execution_count": 84,
   "metadata": {},
   "outputs": [],
   "source": [
    "#maintain the naming convention of classes (initial capital letter)\n",
    "\n",
    "class Student:\n",
    "    \n",
    "    def shout():\n",
    "        return 'Hello, Accelerate! I am a student!'"
   ]
  },
  {
   "cell_type": "markdown",
   "metadata": {},
   "source": [
    "See that the class carries a name, and within this class we seem to have a function that returns some information. Now what we could do is call that function:"
   ]
  },
  {
   "cell_type": "code",
   "execution_count": 85,
   "metadata": {},
   "outputs": [
    {
     "data": {
      "text/plain": [
       "'Hello, Accelerate! I am a student!'"
      ]
     },
     "execution_count": 85,
     "metadata": {},
     "output_type": "execute_result"
    }
   ],
   "source": [
    "Student.shout()"
   ]
  },
  {
   "cell_type": "markdown",
   "metadata": {},
   "source": [
    "Fair enough, but that could have been done by a function without a class for sure. The following sections will build up on this construction of a class."
   ]
  },
  {
   "cell_type": "markdown",
   "metadata": {},
   "source": [
    "### Instances\n",
    "\n",
    "Now that we have our class as a template, we want to create a student:"
   ]
  },
  {
   "cell_type": "code",
   "execution_count": 86,
   "metadata": {},
   "outputs": [],
   "source": [
    "sam = student()"
   ]
  },
  {
   "cell_type": "markdown",
   "metadata": {},
   "source": [
    "Note that the instance of a class is created by treating our class like a function, and we pass no parameters to that function. Let's check whether it worked:"
   ]
  },
  {
   "cell_type": "code",
   "execution_count": 87,
   "metadata": {},
   "outputs": [
    {
     "data": {
      "text/plain": [
       "__main__.Student"
      ]
     },
     "execution_count": 87,
     "metadata": {},
     "output_type": "execute_result"
    }
   ],
   "source": [
    "type(sam)"
   ]
  },
  {
   "cell_type": "markdown",
   "metadata": {},
   "source": [
    "Looks good!"
   ]
  },
  {
   "cell_type": "markdown",
   "metadata": {},
   "source": [
    "Sam, as an instance of our class, is able to shout. But we have not defined anything on Sam, right? \n",
    "\n",
    "***An instance of a class obtains its properties and methods from that class.***"
   ]
  },
  {
   "cell_type": "code",
   "execution_count": 88,
   "metadata": {},
   "outputs": [
    {
     "data": {
      "text/plain": [
       "'Hello, Accelerate! I am a student!'"
      ]
     },
     "execution_count": 88,
     "metadata": {},
     "output_type": "execute_result"
    }
   ],
   "source": [
    "sam.shout()"
   ]
  },
  {
   "cell_type": "markdown",
   "metadata": {},
   "source": [
    "### Abstraction\n",
    "\n",
    "Abstraction means that we are able to ignore features of something that is not within a defined focus. It could occur that we have an interest in a certain outcome of an operation, but not necessarily in the background processes that led to this result. \n",
    "\n",
    "Consider telling somebody you made a book purchase. Now they know that you own this book, which was the focus point of your speech. The steps in your procurement procecss are not necessary to convey what you wanted to say: you didn't need to disclose your method of payment or whether it is a printed book or a file on your reader."
   ]
  },
  {
   "cell_type": "markdown",
   "metadata": {},
   "source": [
    "### Encapsulation\n",
    "\n",
    "Encapsulation in fact is a method of implementing abstraction into our code, but try to see them as separate concepts. There are more ways to implement abstraction, and not every encapsulation can be seen as implemented abstraction. \n",
    "\n",
    "Imagine our variables and functions are undisclosed, and globally available.\n",
    "\n",
    "Encapsulation means that we would build a wrapper around variables and functions that we would want to protect from this degree of availability.\n",
    "Why would we want to do that? There are various reasons to encapsulate. Consider the following:\n",
    "\n",
    "- You would want to perform an operation with 3rd party input, but mustn't share the operation itself\n",
    "- You may use certain names multiple times within your code, but they represent different entities. Encapsulating prevents interference here.\n",
    "\n",
    "Consider these wrapped elements as *private*. We have combined these single elements into a whole class. This means we can protect things that should not be modified by other parts of our code. Here's an example based on our coding school: let's say we have an object called Teacher, and we have an Object called student. Let's say they have some internal ranking system, but the student rank and the teacher rank are fundamentally different given their role in our company:"
   ]
  },
  {
   "cell_type": "code",
   "execution_count": 230,
   "metadata": {},
   "outputs": [],
   "source": [
    "class Student:\n",
    "    \n",
    "    rank = 'A'\n",
    "    \n",
    "    def shout(self):\n",
    "        return 'Hello, Accelerate! I am a student with the rank of {}!'.format(Student.rank)\n",
    "    \n",
    "class Employee:\n",
    "    rank = 9\n",
    "    \n",
    "    def shout(self):\n",
    "        return 'My rank as a professor is {}.'.format(self.rank)\n",
    "        "
   ]
  },
  {
   "cell_type": "code",
   "execution_count": 231,
   "metadata": {},
   "outputs": [],
   "source": [
    "chalmers = Employee()\n",
    "sam = Student()"
   ]
  },
  {
   "cell_type": "markdown",
   "metadata": {},
   "source": [
    "The following calls show that the variables and functions within the two classes have been treated independently, although they've had the same name:"
   ]
  },
  {
   "cell_type": "code",
   "execution_count": 232,
   "metadata": {},
   "outputs": [
    {
     "name": "stdout",
     "output_type": "stream",
     "text": [
      "Hello, Accelerate! I am a student with the rank of A! \n",
      " My rank as a professor is 9.\n"
     ]
    }
   ],
   "source": [
    "print(sam.shout(), '\\n', chalmers.shout())"
   ]
  },
  {
   "cell_type": "markdown",
   "metadata": {},
   "source": [
    "This implies the reduction of errors, easier debugging of our code and the support of elements not yet written or implemented (given we provide an API guide)."
   ]
  },
  {
   "cell_type": "markdown",
   "metadata": {},
   "source": [
    "### Polymorphism\n",
    "\n",
    "In its essence, polymorphism means that we can perform a piece of code on different types of objects.  \n",
    "Consider the human method of drinking: it is a repeatable action that doesn't only work with water, but any kinds of beverages.  \n",
    "An OOP language such as Python therefore provides an elegant way of defining these actions, instead of writing for example a separate function for all types of beverages. \n",
    "Have you noticed that in Python we never declared the data type of a variable? Python seems to intuitively know that '9' is a string, but 9 is an integer, and it can do its operations around these.  \n",
    "\n",
    "Consider the following for our Teachers in order to compute their salaries:"
   ]
  },
  {
   "cell_type": "code",
   "execution_count": 247,
   "metadata": {},
   "outputs": [],
   "source": [
    "class Employee:\n",
    "   \n",
    "    base = 26.000\n",
    "\n",
    "    def __init__(self,exp_years, rank):\n",
    "        self.rank = rank\n",
    "        self.exp_years = exp_years\n",
    "    \n",
    "    def shout(self):\n",
    "        return 'My rank as a professor is {}.'.format(Teacher.rank)\n",
    "    \n",
    "    def salary_modifier(self):\n",
    "        new_salary = (self.base * 0.05) * (self.rank * 0.25) * (self.exp_years * 0.25)\n",
    "        return new_salary"
   ]
  },
  {
   "cell_type": "markdown",
   "metadata": {},
   "source": [
    "We now create an instance with some individual properties:"
   ]
  },
  {
   "cell_type": "code",
   "execution_count": 248,
   "metadata": {},
   "outputs": [],
   "source": [
    "edna = Employee(17.7,9)"
   ]
  },
  {
   "cell_type": "code",
   "execution_count": 249,
   "metadata": {},
   "outputs": [
    {
     "data": {
      "text/plain": [
       "12.943125"
      ]
     },
     "execution_count": 249,
     "metadata": {},
     "output_type": "execute_result"
    }
   ],
   "source": [
    "edna.salary_modifier()"
   ]
  },
  {
   "cell_type": "markdown",
   "metadata": {},
   "source": [
    "We have not really declared that Edna's experience in years is a float and that her rank ought to be an integer. But still, our method inside the Teacher class is able to perform these operations correctly. This is because variables in Python are not the real information behind them. Instead, they can be seen as ***pointers*** to a place in our memory, where the actual content is stored. Python's functions are smart enoug"
   ]
  },
  {
   "cell_type": "markdown",
   "metadata": {},
   "source": [
    "Another good example would be the in-built way of finding out the length of something with len().\n",
    "Python can adapt this to strings and lists, dictionaries and sets just fine:"
   ]
  },
  {
   "cell_type": "code",
   "execution_count": 154,
   "metadata": {},
   "outputs": [],
   "source": [
    "li = [1,7]\n",
    "di = {'key1': 1, 'key2':2, 'key3' : 3}\n",
    "st = 'playstation'\n",
    "se = {'playstation', 'gameboy', 'dreamcast'}"
   ]
  },
  {
   "cell_type": "code",
   "execution_count": 159,
   "metadata": {},
   "outputs": [
    {
     "name": "stdout",
     "output_type": "stream",
     "text": [
      "\n",
      " li 2 \n",
      " di 3 \n",
      " st 11 \n",
      " se 3\n"
     ]
    }
   ],
   "source": [
    "print('\\n','li',len(li),'\\n','di',len(di),'\\n','st',len(st),'\\n','se',len(se))"
   ]
  },
  {
   "cell_type": "markdown",
   "metadata": {},
   "source": [
    "### Inheritance"
   ]
  },
  {
   "cell_type": "markdown",
   "metadata": {},
   "source": [
    "Classes can have attrtibutes from other classes, which they may modify or just observe. That helps us to not always create the same methods or berhaviours of their properties over and over again."
   ]
  },
  {
   "cell_type": "markdown",
   "metadata": {},
   "source": [
    "Lets say we have different types of teachers in our program, and the way their properties are modified is equal to a certain degree:"
   ]
  },
  {
   "cell_type": "code",
   "execution_count": 250,
   "metadata": {},
   "outputs": [],
   "source": [
    "class Employee:\n",
    "   \n",
    "    base = 26.000\n",
    "\n",
    "    def __init__(self,exp_years, rank, teacher_style):\n",
    "        self.rank = rank\n",
    "        self.exp_years = exp_years\n",
    "        self.teacher_style = teacher_style\n",
    "    \n",
    "    def shout(self):\n",
    "        print('My rank as a professor is {}.'.format(self.rank), 'I am a {}.'.format(self.teacher_style))\n",
    "    \n",
    "    def salary_modifier(self):\n",
    "        new_salary = (self.base * 0.05) * (self.rank * 0.25) * (self.exp_years * 0.25)\n",
    "        return new_salary\n",
    "\n",
    "class Teacher(Employee):\n",
    "    \n",
    "    def __init__(self,exp_years,rank,teacher_style,current_class):\n",
    "        super().__init__(exp_years,rank,teacher_style)\n",
    "        self.current_class = current_class\n",
    "    \n",
    "    def schedule(self):\n",
    "        return('Currently teaches the class {}'.format(current_class))"
   ]
  },
  {
   "cell_type": "code",
   "execution_count": 251,
   "metadata": {},
   "outputs": [],
   "source": [
    "anderson = Teacher(3, 17, 'part-time', '4c')"
   ]
  },
  {
   "cell_type": "code",
   "execution_count": 252,
   "metadata": {},
   "outputs": [
    {
     "name": "stdout",
     "output_type": "stream",
     "text": [
      "My rank as a professor is 17. I am a part-time.\n"
     ]
    }
   ],
   "source": [
    "anderson.shout()"
   ]
  },
  {
   "cell_type": "code",
   "execution_count": 253,
   "metadata": {},
   "outputs": [
    {
     "data": {
      "text/plain": [
       "4.143750000000001"
      ]
     },
     "execution_count": 253,
     "metadata": {},
     "output_type": "execute_result"
    }
   ],
   "source": [
    "anderson.salary_modifier()"
   ]
  },
  {
   "cell_type": "markdown",
   "metadata": {},
   "source": [
    "### About \\__init__"
   ]
  },
  {
   "cell_type": "markdown",
   "metadata": {},
   "source": [
    "The \\__init__ method describes the starting properties of each class. It is invoked every time a new isntance is created, and we can pass our properties to an instance via \\__init__ as seen above:"
   ]
  },
  {
   "cell_type": "code",
   "execution_count": 254,
   "metadata": {},
   "outputs": [],
   "source": [
    "anderson = Teacher(3, 17, 'part-time', '4c')"
   ]
  },
  {
   "cell_type": "markdown",
   "metadata": {},
   "source": [
    "### Class Variables vs Instance Variables"
   ]
  },
  {
   "cell_type": "markdown",
   "metadata": {},
   "source": [
    "We can see in the above example that everybody starts with a base salary of 26,000. This assignment outside of methods is called a **class variable**. As such, it is shared among all instances of the class, and the value remains the same. Conversely, **instance variables** like our teacher's years of experience are unique to each instance of a class."
   ]
  }
 ],
 "metadata": {
  "kernelspec": {
   "display_name": "Python 3",
   "language": "python",
   "name": "python3"
  },
  "language_info": {
   "codemirror_mode": {
    "name": "ipython",
    "version": 3
   },
   "file_extension": ".py",
   "mimetype": "text/x-python",
   "name": "python",
   "nbconvert_exporter": "python",
   "pygments_lexer": "ipython3",
   "version": "3.6.5"
  }
 },
 "nbformat": 4,
 "nbformat_minor": 2
}
