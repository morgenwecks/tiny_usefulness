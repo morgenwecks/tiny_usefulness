{
 "cells": [
  {
   "cell_type": "markdown",
   "metadata": {},
   "source": [
    "# Create your own Hong Kong Stock Data Set"
   ]
  },
  {
   "cell_type": "markdown",
   "metadata": {},
   "source": [
    "In this module, we are going to apply some of the things we have learned about APIs, string formatting, loops, file I/O, and Pandas. \n",
    "You will have the ability to fetch your own stock data, preprocess them, and store each company's values in a csv file."
   ]
  },
  {
   "cell_type": "markdown",
   "metadata": {},
   "source": [
    "## Getting our companies of interest\n",
    "\n",
    "Let's assume we want to fetch the Data of the Hong Kong GEM board. Now what we could do is brute force ourselves through all possible numbers and see if this stock code exists. That would be time consuming, so we should know where to go for valid information:\n",
    "\n",
    "https://www.hkex.com.hk/eng/services/trading/securities/securitieslists/ListOfSecurities.xlsx\n",
    "\n",
    "We can extract our GEM companies by filtering, and would want to save our file so we can use the codes for our API calls as \"gem_comps.xlsx\"."
   ]
  },
  {
   "cell_type": "code",
   "execution_count": 1,
   "metadata": {},
   "outputs": [],
   "source": [
    "import requests #for our GETting of the stock information\n",
    "import pandas as pd #we want to handle the output of the API right away so there is going to be a clean dataset\n",
    "import time #we need our API calls to be a little apart from each other in case we make a bulk call\n",
    "import os #for file and directory handling"
   ]
  },
  {
   "cell_type": "markdown",
   "metadata": {},
   "source": [
    "Note that for this notebook, we have saved the file in the folder 'stock_dfs'. If it does not exist, we can create it upon running our script, and download the file right to this location:"
   ]
  },
  {
   "cell_type": "code",
   "execution_count": 7,
   "metadata": {},
   "outputs": [],
   "source": [
    "if not os.path.exists('stock_dfs/GEM'):\n",
    "    os.makedirs('stock_dfs/GEM')"
   ]
  },
  {
   "cell_type": "markdown",
   "metadata": {},
   "source": [
    "Now we can load our table with the necessary information an create a list of valid ticker numbers for our API:"
   ]
  },
  {
   "cell_type": "code",
   "execution_count": 2,
   "metadata": {},
   "outputs": [],
   "source": [
    "gemtable = pd.read_excel('stock_dfs/gem_comps.xlsx')\n",
    "tickers = gemtable[\"CODE\"].tolist()"
   ]
  },
  {
   "cell_type": "code",
   "execution_count": 3,
   "metadata": {},
   "outputs": [
    {
     "data": {
      "text/plain": [
       "379"
      ]
     },
     "execution_count": 3,
     "metadata": {},
     "output_type": "execute_result"
    }
   ],
   "source": [
    "len(tickers)"
   ]
  },
  {
   "cell_type": "code",
   "execution_count": 13,
   "metadata": {},
   "outputs": [
    {
     "data": {
      "text/plain": [
       "8001"
      ]
     },
     "execution_count": 13,
     "metadata": {},
     "output_type": "execute_result"
    }
   ],
   "source": [
    "tickers[0]"
   ]
  },
  {
   "cell_type": "markdown",
   "metadata": {},
   "source": [
    "## Now let's see what a single equity output is like:"
   ]
  },
  {
   "cell_type": "code",
   "execution_count": 4,
   "metadata": {},
   "outputs": [],
   "source": [
    "ticker = tickers[0]"
   ]
  },
  {
   "cell_type": "code",
   "execution_count": 5,
   "metadata": {},
   "outputs": [],
   "source": [
    "link = ('https://www.alphavantage.co/query?function=TIME_SERIES_DAILY&symbol={}.HK&outputsize=compact&apikey=XHUW4LB158S6333F'.format(ticker))\n",
    "re = requests.get(link)"
   ]
  },
  {
   "cell_type": "markdown",
   "metadata": {},
   "source": [
    "Upon calling re.json() we can see that our result is a json file, meaning we can handle it like a dictionary in Python. Each row represents a trading day, and the necessary information that we want in our columns is shown as values for each day. There is also some Meta Data which we wouldn't want to use in our case, especially since we're about to do some quantified analyses with our results. Let's turn our response into a data frame and get rid of the unnecessary information:"
   ]
  },
  {
   "cell_type": "code",
   "execution_count": 8,
   "metadata": {},
   "outputs": [],
   "source": [
    "df_recent = pd.DataFrame.from_dict(re.json()) #parse the json information to a dataframe\n",
    "df_recent.drop(['Meta Data'], axis =1, inplace = True) #drop the meta data\n",
    "df_recent.drop(df_recent.index[[0,1,-1,-2,-3]], inplace = True) #drop the trailing and leading rows containing non quantified information\n",
    "df_recent.reset_index(inplace = True) #make sure the dates are not our index"
   ]
  },
  {
   "cell_type": "code",
   "execution_count": 9,
   "metadata": {},
   "outputs": [
    {
     "data": {
      "text/html": [
       "<div>\n",
       "<style scoped>\n",
       "    .dataframe tbody tr th:only-of-type {\n",
       "        vertical-align: middle;\n",
       "    }\n",
       "\n",
       "    .dataframe tbody tr th {\n",
       "        vertical-align: top;\n",
       "    }\n",
       "\n",
       "    .dataframe thead th {\n",
       "        text-align: right;\n",
       "    }\n",
       "</style>\n",
       "<table border=\"1\" class=\"dataframe\">\n",
       "  <thead>\n",
       "    <tr style=\"text-align: right;\">\n",
       "      <th></th>\n",
       "      <th>index</th>\n",
       "      <th>Time Series (Daily)</th>\n",
       "    </tr>\n",
       "  </thead>\n",
       "  <tbody>\n",
       "    <tr>\n",
       "      <th>0</th>\n",
       "      <td>2018-04-18</td>\n",
       "      <td>{'1. open': '0.7700', '2. high': '0.8000', '3....</td>\n",
       "    </tr>\n",
       "    <tr>\n",
       "      <th>1</th>\n",
       "      <td>2018-04-19</td>\n",
       "      <td>{'1. open': '0.7800', '2. high': '0.7800', '3....</td>\n",
       "    </tr>\n",
       "    <tr>\n",
       "      <th>2</th>\n",
       "      <td>2018-04-20</td>\n",
       "      <td>{'1. open': '0.7700', '2. high': '0.7900', '3....</td>\n",
       "    </tr>\n",
       "    <tr>\n",
       "      <th>3</th>\n",
       "      <td>2018-04-23</td>\n",
       "      <td>{'1. open': '0.7700', '2. high': '0.8200', '3....</td>\n",
       "    </tr>\n",
       "    <tr>\n",
       "      <th>4</th>\n",
       "      <td>2018-04-24</td>\n",
       "      <td>{'1. open': '0.8300', '2. high': '0.8500', '3....</td>\n",
       "    </tr>\n",
       "  </tbody>\n",
       "</table>\n",
       "</div>"
      ],
      "text/plain": [
       "        index                                Time Series (Daily)\n",
       "0  2018-04-18  {'1. open': '0.7700', '2. high': '0.8000', '3....\n",
       "1  2018-04-19  {'1. open': '0.7800', '2. high': '0.7800', '3....\n",
       "2  2018-04-20  {'1. open': '0.7700', '2. high': '0.7900', '3....\n",
       "3  2018-04-23  {'1. open': '0.7700', '2. high': '0.8200', '3....\n",
       "4  2018-04-24  {'1. open': '0.8300', '2. high': '0.8500', '3...."
      ]
     },
     "execution_count": 9,
     "metadata": {},
     "output_type": "execute_result"
    }
   ],
   "source": [
    "df_recent.head()"
   ]
  },
  {
   "cell_type": "markdown",
   "metadata": {},
   "source": [
    "The next step would be to unpack the information that is nested in the TimeSeries (Daily) column's dictionaries:"
   ]
  },
  {
   "cell_type": "code",
   "execution_count": 10,
   "metadata": {},
   "outputs": [],
   "source": [
    "ohlc = pd.DataFrame(df_recent['Time Series (Daily)'].dropna().tolist()) # turn the column's information into a series, drop NaN that have been carried along\n",
    "df_recent = pd.merge(df_recent, ohlc, left_index=True, right_index=True) # glue that series onto the existing dataframe\n",
    "df_recent.drop(['Time Series (Daily)'], axis = 1, inplace = True) # drop the column with the wrapped information"
   ]
  },
  {
   "cell_type": "code",
   "execution_count": 11,
   "metadata": {},
   "outputs": [
    {
     "data": {
      "text/html": [
       "<div>\n",
       "<style scoped>\n",
       "    .dataframe tbody tr th:only-of-type {\n",
       "        vertical-align: middle;\n",
       "    }\n",
       "\n",
       "    .dataframe tbody tr th {\n",
       "        vertical-align: top;\n",
       "    }\n",
       "\n",
       "    .dataframe thead th {\n",
       "        text-align: right;\n",
       "    }\n",
       "</style>\n",
       "<table border=\"1\" class=\"dataframe\">\n",
       "  <thead>\n",
       "    <tr style=\"text-align: right;\">\n",
       "      <th></th>\n",
       "      <th>index</th>\n",
       "      <th>1. open</th>\n",
       "      <th>2. high</th>\n",
       "      <th>3. low</th>\n",
       "      <th>4. close</th>\n",
       "      <th>5. volume</th>\n",
       "    </tr>\n",
       "  </thead>\n",
       "  <tbody>\n",
       "    <tr>\n",
       "      <th>0</th>\n",
       "      <td>2018-04-18</td>\n",
       "      <td>0.7700</td>\n",
       "      <td>0.8000</td>\n",
       "      <td>0.7700</td>\n",
       "      <td>0.7800</td>\n",
       "      <td>1352000</td>\n",
       "    </tr>\n",
       "    <tr>\n",
       "      <th>1</th>\n",
       "      <td>2018-04-19</td>\n",
       "      <td>0.7800</td>\n",
       "      <td>0.7800</td>\n",
       "      <td>0.7700</td>\n",
       "      <td>0.7800</td>\n",
       "      <td>1304000</td>\n",
       "    </tr>\n",
       "    <tr>\n",
       "      <th>2</th>\n",
       "      <td>2018-04-20</td>\n",
       "      <td>0.7700</td>\n",
       "      <td>0.7900</td>\n",
       "      <td>0.7700</td>\n",
       "      <td>0.7800</td>\n",
       "      <td>1336000</td>\n",
       "    </tr>\n",
       "    <tr>\n",
       "      <th>3</th>\n",
       "      <td>2018-04-23</td>\n",
       "      <td>0.7700</td>\n",
       "      <td>0.8200</td>\n",
       "      <td>0.7700</td>\n",
       "      <td>0.8100</td>\n",
       "      <td>1756000</td>\n",
       "    </tr>\n",
       "    <tr>\n",
       "      <th>4</th>\n",
       "      <td>2018-04-24</td>\n",
       "      <td>0.8300</td>\n",
       "      <td>0.8500</td>\n",
       "      <td>0.8000</td>\n",
       "      <td>0.8000</td>\n",
       "      <td>1356000</td>\n",
       "    </tr>\n",
       "  </tbody>\n",
       "</table>\n",
       "</div>"
      ],
      "text/plain": [
       "        index 1. open 2. high  3. low 4. close 5. volume\n",
       "0  2018-04-18  0.7700  0.8000  0.7700   0.7800   1352000\n",
       "1  2018-04-19  0.7800  0.7800  0.7700   0.7800   1304000\n",
       "2  2018-04-20  0.7700  0.7900  0.7700   0.7800   1336000\n",
       "3  2018-04-23  0.7700  0.8200  0.7700   0.8100   1756000\n",
       "4  2018-04-24  0.8300  0.8500  0.8000   0.8000   1356000"
      ]
     },
     "execution_count": 11,
     "metadata": {},
     "output_type": "execute_result"
    }
   ],
   "source": [
    "df_recent.head()"
   ]
  },
  {
   "cell_type": "markdown",
   "metadata": {},
   "source": [
    "Let's save the file with a clear filename as a csv:"
   ]
  },
  {
   "cell_type": "code",
   "execution_count": 53,
   "metadata": {},
   "outputs": [],
   "source": [
    "df_recent.to_csv('stock_dfs/GEM/{}.csv'.format(ticker))"
   ]
  },
  {
   "cell_type": "code",
   "execution_count": 13,
   "metadata": {},
   "outputs": [],
   "source": [
    "test = pd.read_csv('stock_dfs/GEM/{}.csv'.format(ticker))"
   ]
  },
  {
   "cell_type": "code",
   "execution_count": 14,
   "metadata": {},
   "outputs": [
    {
     "data": {
      "text/plain": [
       "<matplotlib.axes._subplots.AxesSubplot at 0x1dac3efdc18>"
      ]
     },
     "execution_count": 14,
     "metadata": {},
     "output_type": "execute_result"
    }
   ],
   "source": [
    "test.plot(y='4. close', legend = False)"
   ]
  },
  {
   "cell_type": "markdown",
   "metadata": {},
   "source": [
    "## Assignment\n",
    "Write a function that fetches the data for all GEM companies. Try to implement an exception handler for cases that cannot be fetched (delistings, for example).\n",
    "Your function should be able to check whether your directory already contains information about the share, and only append new trading days."
   ]
  }
 ],
 "metadata": {
  "kernelspec": {
   "display_name": "Python 3",
   "language": "python",
   "name": "python3"
  },
  "language_info": {
   "codemirror_mode": {
    "name": "ipython",
    "version": 3
   },
   "file_extension": ".py",
   "mimetype": "text/x-python",
   "name": "python",
   "nbconvert_exporter": "python",
   "pygments_lexer": "ipython3",
   "version": "3.6.5"
  }
 },
 "nbformat": 4,
 "nbformat_minor": 2
}
